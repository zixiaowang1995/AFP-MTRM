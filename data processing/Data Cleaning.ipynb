{
 "cells": [
  {
   "cell_type": "code",
   "execution_count": null,
   "metadata": {},
   "outputs": [],
   "source": [
    "import csv\n",
    "from collections import defaultdict\n",
    "\n",
    "# Read data from input1.csv and group by name\n",
    "data = defaultdict(list)\n",
    "with open('input1.csv', mode='r') as file:\n",
    "    reader = csv.reader(file)\n",
    "    for row in reader:\n",
    "        name, value = row\n",
    "        data[name].append(float(value))\n",
    "\n",
    "# Clean the data and generate new data\n",
    "cleaned_data = defaultdict(list)\n",
    "for name, values in data.items():\n",
    "    if len(values) == 1:  # If a name corresponds to a single value, keep it directly\n",
    "        cleaned_data[name] = values[0]\n",
    "        print(f\"Name '{name}' corresponds to a single value {values[0]}, keeping it.\")\n",
    "    else:\n",
    "        unique_values = set(values)\n",
    "        if len(unique_values) == 1:  # If all values are the same, keep one of them\n",
    "            cleaned_data[name] = unique_values.pop()\n",
    "            print(f\"Name '{name}' corresponds to multiple values {values}, but all values are the same, keeping one of them {cleaned_data[name]}.\")\n",
    "        else:\n",
    "            min_value = min(values)\n",
    "            max_value = max(values)\n",
    "            if max_value / min_value <= 5:  # If the difference between the maximum and minimum values is no more than 5 times\n",
    "                average_value = sum(values) / len(values)\n",
    "                cleaned_data[name] = average_value\n",
    "                print(f\"Name '{name}' corresponds to multiple values {values}, the difference between the maximum and minimum values is no more than 5 times, taking the average value {average_value}.\")\n",
    "            else:\n",
    "                print(f\"Name '{name}' corresponds to multiple values {values}, the difference between the maximum and minimum values is more than 5 times, deleting.\")\n",
    "                # Delete the name and its corresponding data (not actually implemented in this code)\n",
    "\n",
    "# Write the cleaned data to output1.csv\n",
    "with open('output1.csv', mode='w', newline='') as file:\n",
    "    writer = csv.writer(file)\n",
    "    for name, value in cleaned_data.items():\n",
    "        writer.writerow([name, value])\n",
    "\n",
    "print(\"The cleaned data has been saved to PIM1new.csv.\")"
   ]
  }
 ],
 "metadata": {
  "kernelspec": {
   "display_name": "Python 3",
   "language": "python",
   "name": "python3"
  },
  "language_info": {
   "codemirror_mode": {
    "name": "ipython",
    "version": 3
   },
   "file_extension": ".py",
   "mimetype": "text/x-python",
   "name": "python",
   "nbconvert_exporter": "python",
   "pygments_lexer": "ipython3",
   "version": "3.7.3"
  }
 },
 "nbformat": 4,
 "nbformat_minor": 2
}
